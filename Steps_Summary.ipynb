{
 "cells": [
  {
   "cell_type": "markdown",
   "metadata": {},
   "source": [
    "# Steps summary"
   ]
  },
  {
   "cell_type": "markdown",
   "metadata": {},
   "source": [
    "## Big Steps\n",
    "\n",
    "   # Problem\n",
    "        -Problem statement (Question/Need)\n",
    "        \n",
    "   # Data\n",
    "       - Exploratory Data Analysis\n",
    "       \n",
    "   # Features\n",
    "       - Feature Engineering\n",
    "       \n",
    "   # Model\n",
    "       - Modeling"
   ]
  },
  {
   "cell_type": "markdown",
   "metadata": {},
   "source": [
    "## PROBLEM\n",
    "\n",
    "https://scikit-learn.org/stable/index.html\n",
    "    \n"
   ]
  },
  {
   "cell_type": "markdown",
   "metadata": {},
   "source": [
    "## DATA\n",
    "\n",
    "### Load files"
   ]
  },
  {
   "cell_type": "code",
   "execution_count": null,
   "metadata": {},
   "outputs": [],
   "source": [
    "import pandas as pd\n",
    "\n",
    "titanic_df = pd.read_csv(\"data/Titanic.csv\", index_col=\"PassengerId\") # ../data/Titanic.csv \n",
    "\n",
    "housing = pd.read_csv(\"../datasets/housing.csv\",sep=\",\")\n",
    "df_reindexed = df.set_index(\"InvoiceDate\")\n",
    "\n",
    "\n",
    "# datasets ensembled\n",
    "import plotly.express as px\n",
    "df = px.data.iris()\n",
    "df_stocks = px.data.stocks()\n",
    "df_cnt = px.data.gapminder()\n",
    "\n",
    "\n",
    "\n",
    "# SAVE CVS housing.to_csv(\"datasets/processed_housing.csv\",index=None)\n",
    "\n",
    "\n",
    "\n",
    "df.columns"
   ]
  },
  {
   "cell_type": "code",
   "execution_count": null,
   "metadata": {},
   "outputs": [],
   "source": [
    "# Balanceado?\n",
    "\n",
    "#Conteo por categoria en una variable\n",
    "df.quality.value_counts() "
   ]
  },
  {
   "cell_type": "code",
   "execution_count": null,
   "metadata": {},
   "outputs": [],
   "source": [
    "# Nulos\n",
    "\n",
    "df.isna().sum()\n",
    "\n",
    "# replace NA (missing values) with average value of the same column\n",
    "df['total_bedrooms'] = df['total_bedrooms'].fillna(df[\"total_bedrooms\"].mean())\n",
    "\n",
    "df = df.drop(index=df.loc[df.Embarked.isna(),:].index) # drop rows, CAREFUL, \n",
    "# better to remove the column if it has no value for the analysis\n",
    "\n",
    "# check nulls with graph\n",
    "!pip install plotly\n",
    "import plotly.express as px\n",
    "px.imshow(df.isna())"
   ]
  },
  {
   "cell_type": "code",
   "execution_count": null,
   "metadata": {},
   "outputs": [],
   "source": [
    "#Feature Engineering\n",
    "\n",
    "df = df.drop(columns=\"Cabin\")"
   ]
  }
 ],
 "metadata": {
  "kernelspec": {
   "display_name": "Python 3",
   "language": "python",
   "name": "python3"
  },
  "language_info": {
   "codemirror_mode": {
    "name": "ipython",
    "version": 3
   },
   "file_extension": ".py",
   "mimetype": "text/x-python",
   "name": "python",
   "nbconvert_exporter": "python",
   "pygments_lexer": "ipython3",
   "version": "3.7.0"
  }
 },
 "nbformat": 4,
 "nbformat_minor": 2
}
